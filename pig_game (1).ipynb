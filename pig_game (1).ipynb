{
  "nbformat": 4,
  "nbformat_minor": 0,
  "metadata": {
    "colab": {
      "provenance": []
    },
    "kernelspec": {
      "name": "python3",
      "display_name": "Python 3"
    },
    "language_info": {
      "name": "python"
    }
  },
  "cells": [
    {
      "cell_type": "code",
      "source": [
        "import random"
      ],
      "metadata": {
        "id": "MR4qJ69wnmyF"
      },
      "execution_count": 34,
      "outputs": []
    },
    {
      "cell_type": "code",
      "execution_count": 35,
      "metadata": {
        "id": "rZlb9eP4ltTS"
      },
      "outputs": [],
      "source": [
        "def roll():\n",
        "    min_value=1\n",
        "    max_value=6\n",
        "    roll=random.randint(min_value,max_value)\n",
        "    return roll\n"
      ]
    },
    {
      "cell_type": "code",
      "source": [
        "\n",
        "while True :\n",
        "  players=input(\"Enter the number of players (2-4):\")\n",
        "  if players.isdigit():\n",
        "    players=int(players)\n",
        "    if 2<=players <=4:\n",
        "      break\n",
        "    else:\n",
        "      print(\"Number of players should be from 2 to 4\")\n",
        "  else :\n",
        "    print(\"You should enter a number only \")\n",
        "\n"
      ],
      "metadata": {
        "colab": {
          "base_uri": "https://localhost:8080/"
        },
        "id": "wAWCJmxTn10C",
        "outputId": "f381ea5a-07c1-4e11-859d-491d11f7510f"
      },
      "execution_count": 46,
      "outputs": [
        {
          "name": "stdout",
          "output_type": "stream",
          "text": [
            "Enter the number of players (2-4):2\n"
          ]
        }
      ]
    },
    {
      "cell_type": "code",
      "source": [
        "players_score=[0 for _ in range(players)]\n",
        "print(players_score)\n",
        "max_score=50"
      ],
      "metadata": {
        "colab": {
          "base_uri": "https://localhost:8080/"
        },
        "id": "hLOEZxLjpKye",
        "outputId": "867fc2fe-8e92-4249-f1d5-b76fe103f228"
      },
      "execution_count": 51,
      "outputs": [
        {
          "output_type": "stream",
          "name": "stdout",
          "text": [
            "[0, 0]\n"
          ]
        }
      ]
    },
    {
      "cell_type": "code",
      "source": [
        "\n",
        "flag=True\n",
        "while flag :\n",
        "  for i in range(players):\n",
        "      while players_score[i]< max_score:\n",
        "        print (f\" \\n player number {i+1} , your current score is {players_score[i]} do you want to roll the dice ? \\n\")\n",
        "\n",
        "        want_roll=input(\" y/n \")\n",
        "        if want_roll.lower() != \"y\":\n",
        "            break\n",
        "        else:\n",
        "            value =roll()\n",
        "            if value ==1:\n",
        "              print(\"You rolled a 1! Turn done!\")\n",
        "              players_score[i]=0\n",
        "              break\n",
        "            else:\n",
        "              print(f\"You rolled a {value}\")\n",
        "              players_score[i]+=value\n",
        "              print(f\"your current score is : {players_score[i]}\")\n",
        "      else :\n",
        "       winner_score=max(players_score)\n",
        "       winner_index=players_score.index(winner_score)\n",
        "       print(f\"Player number {winner_index+1} is the winner with a score of {winner_score}\")\n",
        "       flag =False\n",
        "\n"
      ],
      "metadata": {
        "colab": {
          "base_uri": "https://localhost:8080/"
        },
        "id": "rtoIFcoPtSu0",
        "outputId": "8e457e9a-a817-42d3-b05a-6eda63b90386"
      },
      "execution_count": null,
      "outputs": [
        {
          "output_type": "stream",
          "name": "stdout",
          "text": [
            " \n",
            " player number 1 , your current score is 0 do you want to roll the dice ? \n",
            "\n"
          ]
        }
      ]
    },
    {
      "cell_type": "code",
      "source": [],
      "metadata": {
        "id": "CXi54DFivNaN"
      },
      "execution_count": null,
      "outputs": []
    },
    {
      "cell_type": "code",
      "source": [],
      "metadata": {
        "colab": {
          "base_uri": "https://localhost:8080/"
        },
        "id": "_spdpt4huPnx",
        "outputId": "b394c3cd-3389-412b-bd5a-a625733d253a"
      },
      "execution_count": 16,
      "outputs": [
        {
          "output_type": "stream",
          "name": "stdout",
          "text": [
            "[6, 0, 0, 0]\n"
          ]
        }
      ]
    },
    {
      "cell_type": "code",
      "source": [],
      "metadata": {
        "id": "a08LcyY3utV1"
      },
      "execution_count": null,
      "outputs": []
    }
  ]
}